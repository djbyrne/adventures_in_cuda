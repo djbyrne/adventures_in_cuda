{
  "nbformat": 4,
  "nbformat_minor": 0,
  "metadata": {
    "colab": {
      "provenance": [],
      "gpuType": "T4",
      "authorship_tag": "ABX9TyProCnLdYGskyGClcJGHeVh",
      "include_colab_link": true
    },
    "kernelspec": {
      "name": "python3",
      "display_name": "Python 3"
    },
    "language_info": {
      "name": "python"
    },
    "accelerator": "GPU"
  },
  "cells": [
    {
      "cell_type": "markdown",
      "metadata": {
        "id": "view-in-github",
        "colab_type": "text"
      },
      "source": [
        "<a href=\"https://colab.research.google.com/github/djbyrne/adventures_in_cuda/blob/main/blur_kernel.ipynb\" target=\"_parent\"><img src=\"https://colab.research.google.com/assets/colab-badge.svg\" alt=\"Open In Colab\"/></a>"
      ]
    },
    {
      "cell_type": "markdown",
      "source": [
        "# Intro\n",
        "\n",
        "This notebook outlines how to make a 2D kernel for bluring an image based on the content of [Programming Massively Parallel Processors](https://www.amazon.co.uk/Programming-Massively-Parallel-Processors-Hands/dp/0323912311/ref=pd_lpo_sccl_1/259-1996709-6557616?pd_rd_w=X5SBH&content-id=amzn1.sym.448aab69-6fff-42b9-9d7a-f6325052a6f6&pf_rd_p=448aab69-6fff-42b9-9d7a-f6325052a6f6&pf_rd_r=X9B0ZWKMXF71VYP51C4G&pd_rd_wg=ZRYEe&pd_rd_r=09a8891c-4796-463c-a030-821208a1720a&pd_rd_i=0323912311&psc=1). To blur an image, we go through each pixel and replace it with a weighted sum of its surrounding neighbours in an N x N grid. The size of N determines the strength of the blur effect. For simplicity, we will just be taking the average of this patch, giving all neighbours equal weighting.\n",
        "\n",
        "![mnist_blur.png](data:image/png;base64,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)\n",
        "\n",
        "## Resources\n",
        "- [Getting Started With CUDA For Python Programmers](https://www.youtube.com/watch?v=nOxKexn3iBo)\n",
        "- [PMPP Chapter 3 (Unofficial Repo)](https://github.com/R100001/Programming-Massively-Parallel-Processors)"
      ],
      "metadata": {
        "id": "KviMnCY4piyv"
      }
    },
    {
      "cell_type": "markdown",
      "source": [
        "# Setup\n",
        "\n",
        "For simplicity, we will be using simple images from the MNIST dataset that only\n",
        "have 1 channel."
      ],
      "metadata": {
        "id": "S8f4JdyLsRL8"
      }
    },
    {
      "cell_type": "code",
      "source": [
        "import torch, os, math, gzip, pickle\n",
        "import numpy as np\n",
        "import matplotlib.pyplot as plt\n",
        "from matplotlib.pyplot import imshow\n",
        "\n",
        "from urllib.request import urlretrieve\n",
        "from pathlib import Path\n",
        "\n",
        "from torch import tensor\n",
        "import torchvision as tv\n",
        "import torchvision.transforms.functional as tvf\n",
        "from torchvision import io\n",
        "from torch.utils.cpp_extension import load_inline\n",
        "\n",
        "import gzip,pickle\n",
        "from urllib.request import urlretrieve\n",
        "from pathlib import Path\n",
        "from torch import tensor"
      ],
      "metadata": {
        "id": "YAvqGT1bqjx9"
      },
      "execution_count": 88,
      "outputs": []
    },
    {
      "cell_type": "code",
      "source": [
        "def show_images(images, figsize=(4,3), **kwargs):\n",
        "    \"\"\"\n",
        "    Takes a list of images and displays them in a horizontal line.\n",
        "\n",
        "    Parameters:\n",
        "    images: List of 2D numpy arrays\n",
        "    \"\"\"\n",
        "    # Concatenate images along width\n",
        "    combined_image = np.concatenate(images, axis=1)\n",
        "\n",
        "    # Display the concatenated image\n",
        "    plt.figure(figsize=figsize)\n",
        "    plt.imshow(combined_image, **kwargs)\n",
        "    plt.axis('off')  # Turn off axis numbers\n",
        "    plt.show()"
      ],
      "metadata": {
        "id": "5aCPh6jEzW30"
      },
      "execution_count": 89,
      "outputs": []
    },
    {
      "cell_type": "code",
      "source": [
        "MNIST_URL='https://github.com/mnielsen/neural-networks-and-deep-learning/blob/master/data/mnist.pkl.gz?raw=true'\n",
        "path_data = Path('data')\n",
        "path_data.mkdir(exist_ok=True)\n",
        "path_gz = path_data/'mnist.pkl.gz'\n",
        "if not path_gz.exists(): urlretrieve(MNIST_URL, path_gz)"
      ],
      "metadata": {
        "id": "AIXF2JlqtjPh"
      },
      "execution_count": 90,
      "outputs": []
    },
    {
      "cell_type": "code",
      "source": [
        "with gzip.open(path_gz, 'rb') as f: ((x_train, y_train), (x_valid, y_valid), _) = pickle.load(f, encoding='latin-1')\n",
        "x_train,y_train,x_valid,y_valid = map(tensor, (x_train,y_train,x_valid,y_valid))\n",
        "x_train.shape,x_train.type()"
      ],
      "metadata": {
        "colab": {
          "base_uri": "https://localhost:8080/"
        },
        "id": "oYo990bPtcCW",
        "outputId": "8cbba1d7-f612-4ef2-86a9-065ebca5a3d8"
      },
      "execution_count": 91,
      "outputs": [
        {
          "output_type": "execute_result",
          "data": {
            "text/plain": [
              "(torch.Size([50000, 784]), 'torch.FloatTensor')"
            ]
          },
          "metadata": {},
          "execution_count": 91
        }
      ]
    },
    {
      "cell_type": "code",
      "source": [
        "# reshape to single images\n",
        "# scale pixels to be from 0-255\n",
        "# cast from float32 to uint8 so it can be used by CUDA\n",
        "# imgs = np.multiply(x_train.reshape(-1, 28, 28), 255).to(torch.uint8)\n",
        "imgs = x_train.reshape(-1, 28, 28)\n",
        "imgs.shape, imgs.type()"
      ],
      "metadata": {
        "colab": {
          "base_uri": "https://localhost:8080/"
        },
        "id": "1b4HiMoZtoPM",
        "outputId": "9daac54f-ccb6-4c59-9e19-2088d6b6b75b"
      },
      "execution_count": 92,
      "outputs": [
        {
          "output_type": "execute_result",
          "data": {
            "text/plain": [
              "(torch.Size([50000, 28, 28]), 'torch.FloatTensor')"
            ]
          },
          "metadata": {},
          "execution_count": 92
        }
      ]
    },
    {
      "cell_type": "code",
      "source": [
        "img = imgs[4]\n",
        "show_images([img], cmap='gray_r')"
      ],
      "metadata": {
        "colab": {
          "base_uri": "https://localhost:8080/",
          "height": 268
        },
        "id": "Kkb9YISPtwf_",
        "outputId": "0d167ddd-d192-4fdc-fbf5-b1e8995ef804"
      },
      "execution_count": 93,
      "outputs": [
        {
          "output_type": "display_data",
          "data": {
            "text/plain": [
              "<Figure size 400x300 with 1 Axes>"
            ],
            "image/png": "[encoded data removed]"
          },
          "metadata": {}
        }
      ]
    },
    {
      "cell_type": "markdown",
      "source": [
        "# Python Blur"
      ],
      "metadata": {
        "id": "HRdyA4GYu-Kz"
      }
    },
    {
      "cell_type": "code",
      "source": [
        "from types import SimpleNamespace as ns"
      ],
      "metadata": {
        "id": "tGAHL46Wt6dn"
      },
      "execution_count": 94,
      "outputs": []
    },
    {
      "cell_type": "code",
      "source": [
        "def blk_kernel2d(f, blocks, threads, *args):\n",
        "    \"\"\"Emulates the behaviour of running a 2D kernel, splitting work across\n",
        "    2 dimensional Blocks, followed by 2 dimensional Threads in each Block\n",
        "    \"\"\"\n",
        "    for i0 in range(blocks.y):\n",
        "        for i1 in range(blocks.x):\n",
        "            for j0 in range(threads.y):\n",
        "                for j1 in range(threads.x):\n",
        "                    f(ns(x=i0,y=i1), ns(x=j0,y=j1), threads, *args)"
      ],
      "metadata": {
        "id": "jj_g40xCvCkN"
      },
      "execution_count": 95,
      "outputs": []
    },
    {
      "cell_type": "code",
      "source": [
        "def blur_bk(blockidx, threadidx, blockdim, x, output, h, w, blur_size=1):\n",
        "    \"\"\"Takes in the current pixel 'x' from the flattened image and finds the\n",
        "    average value of surrounding neighbours according to the 'blur_size'. The\n",
        "    average of this patch is then set to the output image at the position\n",
        "    of the current pixel.\n",
        "    \"\"\"\n",
        "\n",
        "    # get our current row and col in the CUDA block\n",
        "    row = blockidx.y*blockdim.y + threadidx.y\n",
        "    col  = blockidx.x*blockdim.x + threadidx.x\n",
        "\n",
        "    # check that we are actually in bounds of our block\n",
        "    if (row < h and col < w):\n",
        "        pix_val = 0\n",
        "        pix_count = 0\n",
        "\n",
        "        # get the average of our surrounding pixels\n",
        "        for blur_row in range(-blur_size, blur_size + 1):\n",
        "            for blur_col in range(-blur_size, blur_size + 1):\n",
        "\n",
        "                cur_row = blur_row + row\n",
        "                cur_col = blur_col + col\n",
        "\n",
        "                if cur_row > -1 and cur_row < h and cur_col > -1 and cur_col < w:\n",
        "\n",
        "                    pix_val += x[cur_row * w + cur_col]\n",
        "                    pix_count += 1\n",
        "\n",
        "        # update the output image with the blurred value at this position\n",
        "        output[row * w + col] = float(pix_val) / pix_count\n",
        "\n",
        "\n",
        "    return output"
      ],
      "metadata": {
        "id": "N4uH0Jv1vEPh"
      },
      "execution_count": 96,
      "outputs": []
    },
    {
      "cell_type": "code",
      "source": [
        "def blur_img(x, blur_size=1):\n",
        "    h,w = x.shape\n",
        "    n = h*w\n",
        "\n",
        "    # need to flatten array as this is expected by CUDA C for flat memory\n",
        "    x = x.flatten()\n",
        "    res = torch.empty(n, dtype=x.dtype, device=x.device)\n",
        "\n",
        "    # define the threads per block as well as how many blocks we need\n",
        "    tpb = ns(x=13,y=13)\n",
        "    blocks = ns(x=math.ceil(w/tpb.x), y=math.ceil(h/tpb.y))\n",
        "\n",
        "    # run our kernel across all blocks\n",
        "    blk_kernel2d(blur_bk, blocks, tpb, x, res, h, w, blur_size)\n",
        "    return res.view(h,w)"
      ],
      "metadata": {
        "id": "LPBmhm4fwPko"
      },
      "execution_count": 97,
      "outputs": []
    },
    {
      "cell_type": "code",
      "source": [
        "%%timeit\n",
        "img_b1 = blur_img(img, 1)"
      ],
      "metadata": {
        "colab": {
          "base_uri": "https://localhost:8080/"
        },
        "id": "WusVAyAYwjW1",
        "outputId": "0e114990-fee3-4534-e554-99e21aa3a8cf"
      },
      "execution_count": 98,
      "outputs": [
        {
          "output_type": "stream",
          "name": "stdout",
          "text": [
            "119 ms ± 33.1 ms per loop (mean ± std. dev. of 7 runs, 1 loop each)\n"
          ]
        }
      ]
    },
    {
      "cell_type": "code",
      "source": [
        "img_b2 = blur_img(img, 2)"
      ],
      "metadata": {
        "id": "mt7f63a50gX0"
      },
      "execution_count": 99,
      "outputs": []
    },
    {
      "cell_type": "code",
      "source": [
        "show_images([img, img_b1, img_b2], figsize=(6, 6), cmap='gray_r')"
      ],
      "metadata": {
        "colab": {
          "base_uri": "https://localhost:8080/",
          "height": 192
        },
        "id": "sJqUApq0y-fY",
        "outputId": "ddd51e5f-3206-4cbf-f58e-6566d45a4517"
      },
      "execution_count": 102,
      "outputs": [
        {
          "output_type": "display_data",
          "data": {
            "text/plain": [
              "<Figure size 600x600 with 1 Axes>"
            ],
            "image/png": "[encoded data removed]"
          },
          "metadata": {}
        }
      ]
    },
    {
      "cell_type": "markdown",
      "source": [
        "# CUDA Blur\n",
        "\n",
        "Now that we understand what we want to implement, we can write the CUDA kernel.\n"
      ],
      "metadata": {
        "id": "O1lAAQR30ULk"
      }
    },
    {
      "cell_type": "code",
      "source": [
        "# if you get an error, stop right away\n",
        "os.environ['CUDA_LAUNCH_BLOCKING']='1'"
      ],
      "metadata": {
        "id": "mEwJV9vPzBlI"
      },
      "execution_count": 81,
      "outputs": []
    },
    {
      "cell_type": "code",
      "source": [
        "# ninja: pytorch C compiler\n",
        "# wurlitzer: lets us print from cuda into notebook\n",
        "%pip install -q wurlitzer ninja"
      ],
      "metadata": {
        "colab": {
          "base_uri": "https://localhost:8080/"
        },
        "id": "kqbKoYh00_ng",
        "outputId": "09cb4321-4efb-4534-f2e7-5d4a0552bee0"
      },
      "execution_count": 82,
      "outputs": [
        {
          "output_type": "stream",
          "name": "stdout",
          "text": [
            "\u001b[?25l     \u001b[90m━━━━━━━━━━━━━━━━━━━━━━━━━━━━━━━━━━━━━━━━\u001b[0m \u001b[32m0.0/307.2 kB\u001b[0m \u001b[31m?\u001b[0m eta \u001b[36m-:--:--\u001b[0m\r\u001b[2K     \u001b[91m━━━━━━━━━━━━━━━━━━━━━━━━━━━━━━\u001b[0m\u001b[91m╸\u001b[0m\u001b[90m━━━━━━━━━\u001b[0m \u001b[32m235.5/307.2 kB\u001b[0m \u001b[31m6.9 MB/s\u001b[0m eta \u001b[36m0:00:01\u001b[0m\r\u001b[2K     \u001b[90m━━━━━━━━━━━━━━━━━━━━━━━━━━━━━━━━━━━━━━━━\u001b[0m \u001b[32m307.2/307.2 kB\u001b[0m \u001b[31m6.6 MB/s\u001b[0m eta \u001b[36m0:00:00\u001b[0m\n",
            "\u001b[?25h"
          ]
        }
      ]
    },
    {
      "cell_type": "code",
      "source": [
        "%load_ext wurlitzer"
      ],
      "metadata": {
        "id": "01PlDAiy1A7m"
      },
      "execution_count": 83,
      "outputs": []
    },
    {
      "cell_type": "code",
      "source": [
        "# compile cuda behind the scenes\n",
        "\n",
        "def load_cuda(cuda_src, cpp_src, funcs, opt=False, verbose=False):\n",
        "    return load_inline(cuda_sources=[cuda_src], cpp_sources=[cpp_src], functions=funcs,\n",
        "                       extra_cuda_cflags=[\"-O2\"] if opt else [], verbose=verbose, name=\"inline_ext\")"
      ],
      "metadata": {
        "id": "AVMbdPrs1CR2"
      },
      "execution_count": 84,
      "outputs": []
    },
    {
      "cell_type": "code",
      "source": [
        "cuda_begin = r'''\n",
        "#include <torch/extension.h>\n",
        "#include <stdio.h>\n",
        "#include <c10/cuda/CUDAException.h>\n",
        "\n",
        "#define CHECK_CUDA(x) TORCH_CHECK(x.device().is_cuda(), #x \" must be a CUDA tensor\")\n",
        "#define CHECK_CONTIGUOUS(x) TORCH_CHECK(x.is_contiguous(), #x \" must be contiguous\")\n",
        "#define CHECK_INPUT(x) CHECK_CUDA(x); CHECK_CONTIGUOUS(x)\n",
        "\n",
        "inline unsigned int cdiv(unsigned int a, unsigned int b) { return (a + b - 1) / b;}\n",
        "'''"
      ],
      "metadata": {
        "id": "0k2e166Z1GIP"
      },
      "execution_count": 85,
      "outputs": []
    },
    {
      "cell_type": "markdown",
      "source": [
        "## Convert Python To CUDA\n",
        "\n",
        "Following the sage advice of Jeremy Howard, we can pretty easily learn how to convert our python code to C with the help of ChatGPT. I have adopted the same prompt that Jeremy uses from his talk listed at the start of this notebook.\n",
        "\n",
        "### Prompt\n",
        "Convert this to the equivalent C code using the same names,  formatting, etc. where possible.\n",
        "\n",
        "```python\n",
        "\n",
        "# Put your python code here\n",
        "\n",
        "```\n",
        "\n",
        "This then gave me the following C code.\n",
        "\n",
        "```c\n",
        "__global__\n",
        "void blurKernel(unsigned char *in, unsigned char *out, int width, int height, int blur_size)\n",
        "{\n",
        "    int Col = threadIdx.x + blockIdx.x * blockDim.x;\n",
        "    int Row = threadIdx.y + blockIdx.y * blockDim.y;\n",
        "    if (Col < width && Row < height) {\n",
        "\n",
        "        int pixVal = 0;\n",
        "        int pixels = 0;\n",
        "\n",
        "        // Get the average of the surrounding blur_size x blur_size box\n",
        "        for (int blurRow = -blur_size; blurRow < blur_size + 1; blurRow++) {\n",
        "            for (int blurCol = -blur_size; blurCol < blur_size + 1; blurCol++) {\n",
        "                int curRow = Row + blurRow;\n",
        "                int curCol = Col + blurCol;\n",
        "\n",
        "                // If the pixel is within the image, add its value to the sum\n",
        "                if(curRow > -1 && curRow < height && curCol > -1 && curCol < width) {\n",
        "                    pixVal += in[curRow*width + curCol];\n",
        "                    pixels++; // Keep track of the number of pixels in the avg\n",
        "                }\n",
        "            }\n",
        "        }\n",
        "        // Write our new pixel value out\n",
        "        out[Row*width + Col] = (unsigned char)(pixVal / pixels);\n",
        "    }\n",
        "}\n",
        "```\n"
      ],
      "metadata": {
        "id": "yBUuSo8T1ULN"
      }
    },
    {
      "cell_type": "code",
      "source": [
        "cuda_src = cuda_begin + r'''\n",
        "__global__\n",
        "void blurKernel(unsigned char *in, unsigned char *out, int width, int height, int blur_size)\n",
        "{\n",
        "    int Col = threadIdx.x + blockIdx.x * blockDim.x;\n",
        "    int Row = threadIdx.y + blockIdx.y * blockDim.y;\n",
        "    if (Col < width && Row < height) {\n",
        "\n",
        "        int pixVal = 0;\n",
        "        int pixels = 0;\n",
        "\n",
        "        // Get the average of the surrounding blur_size x blur_size box\n",
        "        for (int blurRow = -blur_size; blurRow < blur_size + 1; blurRow++) {\n",
        "            for (int blurCol = -blur_size; blurCol < blur_size + 1; blurCol++) {\n",
        "                int curRow = Row + blurRow;\n",
        "                int curCol = Col + blurCol;\n",
        "\n",
        "                // If the pixel is within the image, add its value to the sum\n",
        "                if(curRow > -1 && curRow < height && curCol > -1 && curCol < width) {\n",
        "                    pixVal += in[curRow*width + curCol];\n",
        "                    pixels++; // Keep track of the number of pixels in the avg\n",
        "                }\n",
        "            }\n",
        "        }\n",
        "        // Write our new pixel value out\n",
        "        out[Row*width + Col] = (unsigned char)(pixVal / pixels);\n",
        "    }\n",
        "}\n",
        "\n",
        "torch::Tensor blur(torch::Tensor x, int b) {\n",
        "    CHECK_INPUT(x);\n",
        "    int h = x.size(0);\n",
        "    int w = x.size(1);\n",
        "    auto output = torch::zeros({h, w}, x.options());\n",
        "\n",
        "    dim3 tpb(16,16);\n",
        "    dim3 blocks(cdiv(w, tpb.x), cdiv(h, tpb.y));\n",
        "    blurKernel<<<blocks, tpb>>>(\n",
        "        x.data_ptr<unsigned char>(), output.data_ptr<unsigned char>(), h, w, b);\n",
        "    C10_CUDA_KERNEL_LAUNCH_CHECK();\n",
        "    return output;\n",
        "}\n",
        "'''"
      ],
      "metadata": {
        "id": "5tRqF1E_1IHP"
      },
      "execution_count": 86,
      "outputs": []
    },
    {
      "cell_type": "code",
      "source": [
        "cpp_src = \"torch::Tensor blur(torch::Tensor x);\""
      ],
      "metadata": {
        "id": "F8jEDVQV2uWx"
      },
      "execution_count": null,
      "outputs": []
    },
    {
      "cell_type": "code",
      "source": [
        "module = load_cuda(cuda_src, cpp_src, ['blur'])"
      ],
      "metadata": {
        "id": "AGEBfcW23Tco"
      },
      "execution_count": null,
      "outputs": []
    },
    {
      "cell_type": "code",
      "source": [
        "dir(module)"
      ],
      "metadata": {
        "id": "Ok-aeQgw3UW4"
      },
      "execution_count": null,
      "outputs": []
    },
    {
      "cell_type": "code",
      "source": [
        "img_c = np.multiply(img, 255).to(torch.uint8)\n",
        "img_c = img_c.contiguous().cuda()"
      ],
      "metadata": {
        "id": "3yRBkMVc31KC"
      },
      "execution_count": null,
      "outputs": []
    },
    {
      "cell_type": "code",
      "source": [
        "%%timeit\n",
        "img_bc1 = module.blur(img_c, 1)"
      ],
      "metadata": {
        "id": "OgykURKQ4Zya"
      },
      "execution_count": null,
      "outputs": []
    },
    {
      "cell_type": "code",
      "source": [
        "img_bc2 = module.blur(img_c, 2)"
      ],
      "metadata": {
        "id": "VejJ3rc44ZDN"
      },
      "execution_count": null,
      "outputs": []
    },
    {
      "cell_type": "code",
      "source": [
        "show_images([img_c, img_bc1, img_bc2], cmap='gray_r')"
      ],
      "metadata": {
        "id": "ept7a0xY4zPp"
      },
      "execution_count": null,
      "outputs": []
    }
  ]
}